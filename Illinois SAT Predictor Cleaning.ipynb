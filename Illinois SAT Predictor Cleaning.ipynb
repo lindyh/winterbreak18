{
 "cells": [
  {
   "cell_type": "code",
   "execution_count": 119,
   "metadata": {},
   "outputs": [],
   "source": [
    "import pandas as pd\n",
    "import numpy as np\n",
    "pd.set_option('display.max_columns', 2000)\n",
    "pd.set_option('display.max_rows', 500)\n"
   ]
  },
  {
   "cell_type": "code",
   "execution_count": 72,
   "metadata": {},
   "outputs": [
    {
     "name": "stderr",
     "output_type": "stream",
     "text": [
      "/anaconda3/lib/python3.6/site-packages/IPython/core/interactiveshell.py:2728: DtypeWarning: Columns (0) have mixed types. Specify dtype option on import or set low_memory=False.\n",
      "  interactivity=interactivity, compiler=compiler, result=result)\n"
     ]
    }
   ],
   "source": [
    "#Importing data\n",
    "\n",
    "general2018 = pd.read_csv(\"2018 general data.csv\")\n",
    "elamath2018 = pd.read_csv(\"2018 ela.math data.csv\")\n",
    "financial2018 = pd.read_csv(\"2018 Financial data.csv\")\n",
    "parcc2018 = pd.read_csv(\"2018 parcc data.csv\")\n",
    "sat2018 = pd.read_csv(\"2018 SAT data.csv\")"
   ]
  },
  {
   "cell_type": "code",
   "execution_count": 174,
   "metadata": {},
   "outputs": [],
   "source": [
    "#Merged data tables together\n",
    "merged2018 = pd.merge(general2018, elamath2018, on = \"RCDTS\", how = \"outer\")\n",
    "merged2018 = pd.merge(merged2018, financial2018, on = \"RCDTS\", how = \"outer\")\n",
    "merged2018 = pd.merge(merged2018, parcc2018, on = \"RCDTS\", how = \"outer\")\n",
    "merged2018 = pd.merge(merged2018, sat2018, on = \"RCDTS\", how = \"outer\")"
   ]
  },
  {
   "cell_type": "code",
   "execution_count": 175,
   "metadata": {},
   "outputs": [
    {
     "data": {
      "text/plain": [
       "(5513, 1739)"
      ]
     },
     "execution_count": 175,
     "metadata": {},
     "output_type": "execute_result"
    }
   ],
   "source": [
    "merged2018.shape"
   ]
  },
  {
   "cell_type": "code",
   "execution_count": 176,
   "metadata": {},
   "outputs": [],
   "source": [
    "#Dropping columns where there is less than 50% of data filled\n",
    "merged2018 = merged2018.dropna(axis = 1, thresh = merged2018.shape[0] * 0.5)"
   ]
  },
  {
   "cell_type": "code",
   "execution_count": 177,
   "metadata": {},
   "outputs": [
    {
     "data": {
      "text/plain": [
       "(5513, 221)"
      ]
     },
     "execution_count": 177,
     "metadata": {},
     "output_type": "execute_result"
    }
   ],
   "source": [
    "merged2018.shape"
   ]
  },
  {
   "cell_type": "code",
   "execution_count": 178,
   "metadata": {},
   "outputs": [],
   "source": [
    "#Dropping rows where there is less than 50% of data filled\n",
    "merged2018  = merged2018.dropna(axis = 0, thresh = merged2018.shape[1] * 0.5)"
   ]
  },
  {
   "cell_type": "code",
   "execution_count": 179,
   "metadata": {},
   "outputs": [
    {
     "data": {
      "text/plain": [
       "(4206, 221)"
      ]
     },
     "execution_count": 179,
     "metadata": {},
     "output_type": "execute_result"
    }
   ],
   "source": [
    "merged2018.shape"
   ]
  },
  {
   "cell_type": "code",
   "execution_count": 180,
   "metadata": {},
   "outputs": [],
   "source": [
    "#Dropping some excess columns that occur when merging on outer\n",
    "merged2018.drop(columns = ['Type_y', 'School Name_y', 'District_y', \n",
    "                           'City_y', 'County_y', 'District Type_y',\n",
    "                          'District Size_y', 'School Type_y', 'Grades Served_y'], inplace = True)"
   ]
  },
  {
   "cell_type": "code",
   "execution_count": 181,
   "metadata": {},
   "outputs": [
    {
     "data": {
      "text/plain": [
       "(4206, 203)"
      ]
     },
     "execution_count": 181,
     "metadata": {},
     "output_type": "execute_result"
    }
   ],
   "source": [
    "merged2018.shape"
   ]
  },
  {
   "cell_type": "code",
   "execution_count": 183,
   "metadata": {},
   "outputs": [],
   "source": [
    "#Dropping duplicated column names\n",
    "merged2018 = merged2018.loc[:,~merged2018.columns.duplicated()]"
   ]
  },
  {
   "cell_type": "code",
   "execution_count": 184,
   "metadata": {},
   "outputs": [
    {
     "data": {
      "text/plain": [
       "(4206, 200)"
      ]
     },
     "execution_count": 184,
     "metadata": {},
     "output_type": "execute_result"
    }
   ],
   "source": [
    "merged2018.shape"
   ]
  },
  {
   "cell_type": "code",
   "execution_count": 187,
   "metadata": {},
   "outputs": [],
   "source": [
    "#Writes to csv\n",
    "merged2018.to_csv(\"Illinois Predictor Data.csv\")"
   ]
  },
  {
   "cell_type": "code",
   "execution_count": null,
   "metadata": {},
   "outputs": [],
   "source": []
  }
 ],
 "metadata": {
  "kernelspec": {
   "display_name": "Python 3",
   "language": "python",
   "name": "python3"
  },
  "language_info": {
   "codemirror_mode": {
    "name": "ipython",
    "version": 3
   },
   "file_extension": ".py",
   "mimetype": "text/x-python",
   "name": "python",
   "nbconvert_exporter": "python",
   "pygments_lexer": "ipython3",
   "version": "3.6.4"
  }
 },
 "nbformat": 4,
 "nbformat_minor": 2
}
